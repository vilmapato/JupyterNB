{
 "cells": [
  {
   "cell_type": "markdown",
   "id": "220f6c48-2e13-4dad-b287-97d12848e5e7",
   "metadata": {},
   "source": [
    "<a href=\"https://cognitiveclass.ai/?utm_medium=Exinfluencer&utm_source=Exinfluencer&utm_content=000026UJ&utm_term=10006555&utm_id=NA-SkillsNetwork-Channel-SkillsNetworkCoursesIBMDeveloperSkillsNetworkPY0101ENSkillsNetwork19487395-2021-01-01\">\n",
    "    <img src=\"https://cf-courses-data.s3.us.cloud-object-storage.appdomain.cloud/IBMDeveloperSkillsNetwork-PY0101EN-SkillsNetwork/IDSNlogo.png\" width=\"300\" align=\"center\">\n",
    "</a>\n"
   ]
  },
  {
   "cell_type": "markdown",
   "id": "a409854c-6803-48bc-89ed-27c7fdcd2f2c",
   "metadata": {},
   "source": [
    "<h1> HTTP and Requests</h1>\n",
    "\n",
    "Estimated time needed: **30** minutes\n",
    "\n",
    "## Objectives\n",
    "\n",
    "After completing this lab you will be able to:\n",
    "\n",
    "*   Understand HTTP\n",
    "*   Handle HTTP Requests\n"
   ]
  },
  {
   "cell_type": "markdown",
   "id": "47fdc52c-5926-4d3b-8a01-be50079b873c",
   "metadata": {},
   "source": [
    "<h2>Table of Contents</h2>\n",
    "\n",
    "<div class=\"alert alert-block alert-info\" style=\"margin-top: 20px\">\n",
    "    <ul>\n",
    "        <li>\n",
    "            <a href=\"#Overview-of-HTTP\">Overview of HTTP </a>\n",
    "            <ul>\n",
    "                <li><a href=\"#Uniform-Resource-Locator:URL\">Uniform Resource Locator:URL</a></li>\n",
    "                 <li><a href=\"#Request\">Request</a></li>\n",
    "                <li><a href=\"#Response\">Response</a></li>\n",
    "            </ul>\n",
    "        </li>\n",
    "        <li>\n",
    "            <a href=\"#Requests-in-Python\">Requests in Python  </a>\n",
    "            <ul>\n",
    "                <li><a href=\"#Get-Request-with-URL-Parameters\">Get Request with URL Parameters</a></li>\n",
    "                <li><a href=\"#Post-Requests\">Post Requests </a></li>\n",
    "\n",
    "</ul>\n",
    "\n",
    "</div>\n",
    "\n",
    "<hr>\n"
   ]
  },
  {
   "cell_type": "markdown",
   "id": "3962c499-f357-40d2-b443-e4ccccdc5916",
   "metadata": {},
   "source": [
    "## Overview of HTTP\n"
   ]
  },
  {
   "cell_type": "markdown",
   "id": "89c42a7e-3afc-4660-b752-9ad2d2b5e24e",
   "metadata": {},
   "source": [
    "When you, the **client**, use a web page your browser sends an **HTTP** request to the **server** where the page is hosted. The server tries to find the desired **resource** by default \"<code>index.html</code>\". If your request is successful, the server will send the object to the client in an **HTTP response**. This includes information like the type of the **resource**, the length of the **resource**, and other information.\n",
    "\n",
    "<p>\n",
    "The figure below represents the process. The circle on the left represents the client, the circle on the right represents the Web server. The table under the Web server represents a list of resources stored in the web server. In  this case an <code>HTML</code> file, <code>png</code> image, and <code>txt</code> file .\n",
    "</p>\n",
    "<p>\n",
    "The <b>HTTP</b> protocol allows you to send and receive information through the web including webpages, images, and other web resources. In this lab, we will provide an overview of the Requests library for interacting with the <code>HTTP</code> protocol. \n",
    "</p\n"
   ]
  },
  {
   "cell_type": "markdown",
   "id": "984aaefb-0ead-4670-ab70-214d5ff4f344",
   "metadata": {},
   "source": [
    "<div class=\"alert alert-block alert-info\" style=\"margin-top: 20px\">\n",
    "         <img src=\"https://cf-courses-data.s3.us.cloud-object-storage.appdomain.cloud/IBMDeveloperSkillsNetwork-PY0101EN-SkillsNetwork/labs/Module%205/images/reqest_basics.png\" width=\"750\" align=\"center\">\n",
    "\n",
    "</div>\n"
   ]
  },
  {
   "cell_type": "markdown",
   "id": "8c5fe9c1-d494-4356-a734-6281e6904bc8",
   "metadata": {},
   "source": [
    "## Uniform Resource Locator:URL\n"
   ]
  },
  {
   "cell_type": "markdown",
   "id": "02500e13-be71-4f3a-8c38-bbc7c6a7274d",
   "metadata": {},
   "source": [
    "Uniform resource locator (URL) is the most popular way to find resources on the web.  We can break the URL into three parts.\n",
    "\n",
    "<ul>\n",
    "    <li><b>Scheme</b>:- This is this protocol, for this lab it will always be <code>http://</code>  </li>\n",
    "    <li><b> Internet address or  Base URL </b>:- This will be used to find the location here are some examples: <code>www.ibm.com</code> and  <code> www.gitlab.com </code> </li>\n",
    "    <li><b>Route</b>:- Location on the web server for example: <code>/images/IDSNlogo.png</code> </li>\n",
    "</ul>\n"
   ]
  },
  {
   "cell_type": "markdown",
   "id": "15ee63a7-d661-4c93-8116-fe8012fe893a",
   "metadata": {},
   "source": [
    "You may also hear the term Uniform Resource Identifier (URI), URL are actually a subset of URIs. Another popular term is endpoint, this is the URL of an operation provided by a Web server.\n"
   ]
  },
  {
   "cell_type": "markdown",
   "id": "0c2406ae-d21c-4131-83ac-59fe1505076c",
   "metadata": {},
   "source": [
    "## Request\n"
   ]
  },
  {
   "cell_type": "markdown",
   "id": "0a72387a-2289-4e53-9e33-0f02a677c177",
   "metadata": {},
   "source": [
    "The process can be broken into the <b>Request</b> and <b>Response </b> process.  The request using the get method is partially illustrated below. In the start line we have the <code>GET</code> method, this is an <code>HTTP</code> method. Also the location of the resource  <code>/index.html</code> and the <code>HTTP</code> version. The Request header passes additional information with an <code>HTTP</code> request:\n"
   ]
  },
  {
   "cell_type": "markdown",
   "id": "60703051-dccc-4d13-8665-d6afa288ca0b",
   "metadata": {},
   "source": [
    "<div class=\"alert alert-block alert-info\" style=\"margin-top: 20px\">\n",
    "         <img src=\"https://cf-courses-data.s3.us.cloud-object-storage.appdomain.cloud/IBMDeveloperSkillsNetwork-PY0101EN-SkillsNetwork/labs/Module%205/images/reqest_messege.png\" width=\"400\" align=\"center\">\n",
    "</div>\n"
   ]
  },
  {
   "cell_type": "markdown",
   "id": "146d314a-8ce2-4445-9fc0-184f41358a71",
   "metadata": {},
   "source": [
    "When an <code>HTTP</code> request is made, an <code>HTTP</code> method is sent, this tells the server what action to perform.  A list of several <code>HTTP</code> methods is shown below. We will go over more examples later.\n"
   ]
  },
  {
   "cell_type": "markdown",
   "id": "8085f582-2cce-4b40-9322-1845e38ce6e3",
   "metadata": {},
   "source": [
    "<div class=\"alert alert-block alert-info\" style=\"margin-top: 20px\">\n",
    "         <img src=\"https://cf-courses-data.s3.us.cloud-object-storage.appdomain.cloud/IBMDeveloperSkillsNetwork-PY0101EN-SkillsNetwork/labs/Module%205/images/http_methods.png\" width=\"400\" align=\"center\">\n",
    "</div>\n"
   ]
  },
  {
   "cell_type": "markdown",
   "id": "d0d829f9-a783-4b96-8048-1b658dd7db18",
   "metadata": {},
   "source": [
    "## Response\n"
   ]
  },
  {
   "cell_type": "markdown",
   "id": "40a361d9-1533-4199-9f6e-40172abd89e0",
   "metadata": {},
   "source": [
    "The figure below represents the response; the response start line contains the version number <code>HTTP/1.0</code>, a status code (200) meaning success, followed by a descriptive phrase (OK). The response header contains useful information. Finally, we have the response body containing the requested file, an <code> HTML </code> document.  It should be noted that some requests have headers.\n"
   ]
  },
  {
   "cell_type": "markdown",
   "id": "1257d456-d66b-4ca2-be44-814d009f5b10",
   "metadata": {},
   "source": [
    "<div class=\"alert alert-block alert-info\" style=\"margin-top: 20px\">\n",
    "         <img src=\"https://cf-courses-data.s3.us.cloud-object-storage.appdomain.cloud/IBMDeveloperSkillsNetwork-PY0101EN-SkillsNetwork/labs/Module%205/images/response_message.png\" width=\"400\" align=\"center\">\n",
    "</div>\n"
   ]
  },
  {
   "cell_type": "markdown",
   "id": "48629315-2bdd-4c2b-8da7-9cddd7248c8b",
   "metadata": {},
   "source": [
    "Some status code examples are shown in the table below, the prefix indicates the class. These are shown in yellow, with actual status codes shown in  white. Check out the following <a href=\"https://developer.mozilla.org/en-US/docs/Web/HTTP/Status?utm_medium=Exinfluencer&utm_source=Exinfluencer&utm_content=000026UJ&utm_term=10006555&utm_id=NA-SkillsNetwork-Channel-SkillsNetworkCoursesIBMDeveloperSkillsNetworkPY0101ENSkillsNetwork19487395-2021-01-01\">link </a> for more descriptions.\n"
   ]
  },
  {
   "cell_type": "markdown",
   "id": "3bb12a0f-d089-4798-803b-b1f6932354d0",
   "metadata": {},
   "source": [
    "<div class=\"alert alert-block alert-info\" style=\"margin-top: 20px\">\n",
    "         <img src=\"https://cf-courses-data.s3.us.cloud-object-storage.appdomain.cloud/IBMDeveloperSkillsNetwork-PY0101EN-SkillsNetwork/labs/Module%205/images/status_code.png\" width=\"300\" align=\"center\">\n",
    "</div>\n"
   ]
  },
  {
   "cell_type": "markdown",
   "id": "af6035fc-7129-4e71-a7a3-8dd99954f67f",
   "metadata": {},
   "source": [
    "## Requests in Python\n"
   ]
  },
  {
   "cell_type": "markdown",
   "id": "f457c184-d7bb-4a57-b57e-8b2f94c834e9",
   "metadata": {},
   "source": [
    "Requests is a Python Library that allows you to send <code>HTTP/1.1</code> requests easily. We can import the library as follows:\n"
   ]
  },
  {
   "cell_type": "code",
   "execution_count": 3,
   "id": "4211db6f-05b3-47a1-a35a-ae739f7feb5c",
   "metadata": {},
   "outputs": [],
   "source": [
    "import requests"
   ]
  },
  {
   "cell_type": "markdown",
   "id": "2a557070-76be-4f4c-9006-31876b0ff944",
   "metadata": {},
   "source": [
    "We will also use the following libraries:\n"
   ]
  },
  {
   "cell_type": "code",
   "execution_count": 4,
   "id": "15bf12cb-2a07-4089-ae55-1041a565487e",
   "metadata": {},
   "outputs": [],
   "source": [
    "import os \n",
    "from PIL import Image\n",
    "from IPython.display import IFrame\n"
   ]
  },
  {
   "cell_type": "markdown",
   "id": "43846366-4c3f-4ada-a456-d97fc92010e2",
   "metadata": {},
   "source": [
    "You can make a <code>GET</code> request via the method <code>get</code> to [www.ibm.com](http://www.ibm.com/?utm_source=Exinfluencer&utm_content=000026UJ&utm_id=NA-SkillsNetwork-Channel-SkillsNetworkCoursesIBMDeveloperSkillsNetworkPY0101ENSkillsNetwork19487395-2021-01-01&utm_medium=Exinfluencer&utm_term=10006555):\n"
   ]
  },
  {
   "cell_type": "code",
   "execution_count": 5,
   "id": "d1d3e94f-9257-4fc0-8ce7-2bf1afdf0429",
   "metadata": {},
   "outputs": [
    {
     "name": "stdout",
     "output_type": "stream",
     "text": [
      "200\n"
     ]
    }
   ],
   "source": [
    "\n",
    "url='https://www.ibm.com/'\n",
    "r = requests.get(url)\n",
    "print(r.status_code)\n"
   ]
  },
  {
   "cell_type": "markdown",
   "id": "c89dc0e7-861b-4a77-bb01-a20f455d0a82",
   "metadata": {},
   "source": [
    "We have the response object <code>r</code>, this has information about the request, like the status of the request. We can view the status code using the attribute <code>status_code</code>.\n"
   ]
  },
  {
   "cell_type": "code",
   "execution_count": 7,
   "id": "3bec3bed-d4ec-4782-9e50-5236a9ffcc60",
   "metadata": {},
   "outputs": [
    {
     "data": {
      "text/plain": [
       "200"
      ]
     },
     "execution_count": 7,
     "metadata": {},
     "output_type": "execute_result"
    }
   ],
   "source": [
    "r.status_code"
   ]
  },
  {
   "cell_type": "markdown",
   "id": "d65f8131-a35b-4c7b-8f6c-d938fcfb21d0",
   "metadata": {},
   "source": [
    "You can view the request headers:\n"
   ]
  },
  {
   "cell_type": "code",
   "execution_count": 8,
   "id": "9ec3a4f5-9cc4-4ee3-9cff-f476010c5b3d",
   "metadata": {},
   "outputs": [
    {
     "name": "stdout",
     "output_type": "stream",
     "text": [
      "{'User-Agent': 'python-requests/2.32.3', 'Accept-Encoding': 'gzip, deflate', 'Accept': '*/*', 'Connection': 'keep-alive', 'Cookie': '_abck=3C34601C317399A152C57F2E8891FD59~-1~YAAQjFJDUIMuot+UAQAAo/aH4A2hiI4giy4fvaH/wI8SbK6OXVMZdkz7dOeao9hwse5m82WE3lTfZZckvNnpkf3wfmaHwg45CPR/O+nQfLuQltCkzz4dDikDe11gzYoHd0fSMnsFM9nnDNOSbGDvMY6ZMPRwtgPxcDXoWpX5nYxpfntt1jpL+6ORKNBLYofywlIvkg6B0JYz+7ENyV4byiPyakSFFzDi8uM1yYnNuG8g/DY4+4vGixjc2SbuteQH3WV2pU0J8G2sl9kxyQwvyLiDTUsblgSmgSF/skBt+5NvAl2rjn+/nJjmmdpCPmOvsQ+SXS1iUxHbcm1O3f+gMhs4xG4kCDrkK18QXc7wNPkdQbg1MI4jfyxTqI2z6QWsuugb5NuF4/HZplGntKIe6R2Ee7OeLXU=~-1~-1~-1; bm_sz=23EE67A0675A34B41EAC310414BD9C44~YAAQjFJDUIQuot+UAQAAo/aH4BoHGNWz23jGvSb7W7RLgNzGXUdganjf80g/yRlq+QBTpy7AoKjLcRltxXohDDIyOwlBCW2CuX4k/ZB4r5qJaEbwcj/r9/9Cb1MfiiI9MV5ZInf0yV8FgM16EwdVCTOjosZeprk7x8uZ+5rkUgNMyhGLd1ZhCHecv2cuFIwtjqTxDOfIAx62ZmyxF9rF7ZlSFCcKwUkVcDD/f+N/tLPb3KMU2VI6dBPP9+JyQVbuy8v6Dzh/uZn7WhqZE82hZmHCvO+DcUFufE5veqLJqz5VYs/81PK63+muZqb8arnLWnYvA+pciUhbaBK1ntw3njV44i59R5a17GZT~3618608~3421766'}\n"
     ]
    }
   ],
   "source": [
    "print(r.request.headers)"
   ]
  },
  {
   "cell_type": "markdown",
   "id": "6c25f9b0-d67e-4a60-9eda-ea475f41b5fa",
   "metadata": {},
   "source": [
    "You can view the request body, in the following line, as there is no body for a get request we get a <code>None</code>:\n"
   ]
  },
  {
   "cell_type": "code",
   "execution_count": 9,
   "id": "9c4dd982-0808-4d24-ba06-3a3e2b1c8a6f",
   "metadata": {},
   "outputs": [
    {
     "name": "stdout",
     "output_type": "stream",
     "text": [
      "request body: None\n"
     ]
    }
   ],
   "source": [
    "print(\"request body:\", r.request.body)"
   ]
  },
  {
   "cell_type": "markdown",
   "id": "b10c42e8-6d3f-495b-827d-f22061e62ba8",
   "metadata": {},
   "source": [
    "You can view the <code>HTTP</code> response header using the attribute <code>headers</code>. This returns a python dictionary of <code>HTTP</code> response headers.\n"
   ]
  },
  {
   "cell_type": "code",
   "execution_count": 10,
   "id": "83310242-c007-4acf-8be3-5482aa6b129f",
   "metadata": {},
   "outputs": [
    {
     "name": "stdout",
     "output_type": "stream",
     "text": [
      "{'Content-Security-Policy': 'upgrade-insecure-requests', 'x-frame-options': 'SAMEORIGIN', 'Last-Modified': 'Fri, 07 Feb 2025 13:02:29 GMT', 'ETag': '\"29cc5-62d8cf8948c6c-gzip\"', 'Accept-Ranges': 'bytes', 'Content-Type': 'text/html;charset=utf-8', 'X-Content-Type-Options': 'nosniff', 'Cache-Control': 'max-age=600', 'Expires': 'Fri, 07 Feb 2025 13:19:54 GMT', 'X-Akamai-Transformed': '9 29171 0 pmb=mTOE,1', 'Content-Encoding': 'gzip', 'Date': 'Fri, 07 Feb 2025 13:09:54 GMT', 'Content-Length': '29342', 'Connection': 'keep-alive', 'Vary': 'Accept-Encoding', 'Strict-Transport-Security': 'max-age=31536000'}\n"
     ]
    }
   ],
   "source": [
    "header=r.headers\n",
    "print(r.headers)"
   ]
  },
  {
   "cell_type": "markdown",
   "id": "2f88d3d0-e765-4abd-aa6f-97080436504d",
   "metadata": {},
   "source": [
    "We can obtain the date the request was sent using the key <code>Date</code>.\n"
   ]
  },
  {
   "cell_type": "code",
   "execution_count": 11,
   "id": "541153b5-bcfb-4c32-982d-301c7b895588",
   "metadata": {},
   "outputs": [
    {
     "data": {
      "text/plain": [
       "'Fri, 07 Feb 2025 13:09:54 GMT'"
      ]
     },
     "execution_count": 11,
     "metadata": {},
     "output_type": "execute_result"
    }
   ],
   "source": [
    "header['date']"
   ]
  },
  {
   "cell_type": "markdown",
   "id": "5e2d8966-f557-4599-b684-c7ba7bb39e39",
   "metadata": {},
   "source": [
    "<code>Content-Type</code> indicates the type of data:\n"
   ]
  },
  {
   "cell_type": "code",
   "execution_count": 12,
   "id": "4c8c5bae-dd56-40d6-9a7f-5ad378fea7c3",
   "metadata": {},
   "outputs": [
    {
     "data": {
      "text/plain": [
       "'text/html;charset=utf-8'"
      ]
     },
     "execution_count": 12,
     "metadata": {},
     "output_type": "execute_result"
    }
   ],
   "source": [
    "header['Content-Type']"
   ]
  },
  {
   "cell_type": "markdown",
   "id": "de059c19-94ee-40c9-8ff7-0b74b28ec0dd",
   "metadata": {},
   "source": [
    "You can also check the <code>encoding</code>:\n"
   ]
  },
  {
   "cell_type": "code",
   "execution_count": null,
   "id": "c022ea72-f02f-4607-9594-4c7f01127ede",
   "metadata": {},
   "outputs": [],
   "source": [
    "# requests = r.encoding"
   ]
  },
  {
   "cell_type": "markdown",
   "id": "be4b9888-dd92-4287-b4c2-ea5e2b63fbf5",
   "metadata": {},
   "source": [
    "As the <code>Content-Type</code> is <code>text/html</code> we can use the attribute <code>text</code> to display the <code>HTML</code> in the body. We can review the first 100 characters:\n"
   ]
  },
  {
   "cell_type": "code",
   "execution_count": 13,
   "id": "69f58dd9-8ee4-490d-ac98-4cec75c6283b",
   "metadata": {},
   "outputs": [
    {
     "data": {
      "text/plain": [
       "'\\n<!DOCTYPE HTML>\\n<html lang=\"en\">\\n<head>\\r\\n    \\r\\n    \\r\\n    \\r\\n    \\r\\n    \\r\\n    \\r\\n    \\r\\n      \\r\\n    \\r\\n  '"
      ]
     },
     "execution_count": 13,
     "metadata": {},
     "output_type": "execute_result"
    }
   ],
   "source": [
    "r.text[0:100]"
   ]
  },
  {
   "cell_type": "markdown",
   "id": "5511b6c4-d3a7-4b9d-ba11-fe39c8d4a56a",
   "metadata": {},
   "source": [
    "You can load other types of data for non-text requests, like images. Consider the URL of the following image:\n"
   ]
  },
  {
   "cell_type": "code",
   "execution_count": 14,
   "id": "25bd3720-5aba-4bbf-b0fb-d9c28bffed1e",
   "metadata": {},
   "outputs": [],
   "source": [
    "# Use single quotation marks for defining string\n",
    "url='https://cf-courses-data.s3.us.cloud-object-storage.appdomain.cloud/IBMDeveloperSkillsNetwork-PY0101EN-SkillsNetwork/IDSNlogo.png'"
   ]
  },
  {
   "cell_type": "markdown",
   "id": "15fdc33b-89b7-4fd8-b639-1666c348efb8",
   "metadata": {},
   "source": [
    "We can make a get request:\n"
   ]
  },
  {
   "cell_type": "code",
   "execution_count": 15,
   "id": "770a10b8-dc49-4c01-a366-d243b7245980",
   "metadata": {},
   "outputs": [],
   "source": [
    "r=requests.get(url)"
   ]
  },
  {
   "cell_type": "markdown",
   "id": "3f2a59bf-a251-4ce5-9e05-69726f5e8730",
   "metadata": {},
   "source": [
    "We can look at the response header:\n"
   ]
  },
  {
   "cell_type": "code",
   "execution_count": 16,
   "id": "90823aa9-5f13-4f0a-95f1-a4e9e97e2356",
   "metadata": {},
   "outputs": [
    {
     "name": "stdout",
     "output_type": "stream",
     "text": [
      "{'Date': 'Fri, 07 Feb 2025 13:11:54 GMT', 'X-Clv-Request-Id': 'fd9e194b-37a1-4986-bed7-97258a5a201e', 'Server': 'Cleversafe', 'X-Clv-S3-Version': '2.5', 'Accept-Ranges': 'bytes', 'x-amz-request-id': 'fd9e194b-37a1-4986-bed7-97258a5a201e', 'ETag': '\"8bb44578fff8fdcc3d2972be9ece0164\"', 'Content-Type': 'image/png', 'Last-Modified': 'Wed, 16 Nov 2022 03:32:41 GMT', 'Content-Length': '78776'}\n"
     ]
    }
   ],
   "source": [
    "print(r.headers)"
   ]
  },
  {
   "cell_type": "markdown",
   "id": "cf669c51-17ba-4cc1-b4fe-e4aa302178dd",
   "metadata": {},
   "source": [
    "We can see the <code>'Content-Type'</code>\n"
   ]
  },
  {
   "cell_type": "code",
   "execution_count": 18,
   "id": "0131f1b8-2f88-42ef-b22c-bb2f48129688",
   "metadata": {},
   "outputs": [
    {
     "data": {
      "text/plain": [
       "'image/png'"
      ]
     },
     "execution_count": 18,
     "metadata": {},
     "output_type": "execute_result"
    }
   ],
   "source": [
    "r.headers['Content-Type']"
   ]
  },
  {
   "cell_type": "markdown",
   "id": "9458db6c-2bc9-42c0-9540-57bff227c4a0",
   "metadata": {},
   "source": [
    "An image is a response object that contains the image as a <a href=\"https://docs.python.org/3/glossary.html?utm_medium=Exinfluencer&utm_source=Exinfluencer&utm_content=000026UJ&utm_term=10006555&utm_id=NA-SkillsNetwork-Channel-SkillsNetworkCoursesIBMDeveloperSkillsNetworkPY0101ENSkillsNetwork19487395-2021-01-01#term-bytes-like-object\">bytes-like object</a>. As a result, we must save it using a file object. First, we specify the <u>file path and\n",
    "name</u>\n"
   ]
  },
  {
   "cell_type": "code",
   "execution_count": 19,
   "id": "ad5489ab-f09c-4b56-afbd-28fa1de4df13",
   "metadata": {},
   "outputs": [],
   "source": [
    "path=os.path.join(os.getcwd(),'image.png')"
   ]
  },
  {
   "cell_type": "markdown",
   "id": "6a5274de-7cf6-4288-b2de-2005823968d3",
   "metadata": {},
   "source": [
    "We save the file, in order to access the body of the response we use the attribute <code>content</code> then save it using the <code>open</code> function and write <code>method</code>:\n"
   ]
  },
  {
   "cell_type": "code",
   "execution_count": 20,
   "id": "aef14846-ea41-47fe-b93d-a5bddeba71ac",
   "metadata": {},
   "outputs": [],
   "source": [
    "with open(path,'wb') as f:\n",
    "    f.write(r.content)"
   ]
  },
  {
   "cell_type": "markdown",
   "id": "3b92526b-983b-4884-9711-2103f21ea71d",
   "metadata": {},
   "source": [
    "We can view the image:\n"
   ]
  },
  {
   "cell_type": "code",
   "execution_count": 21,
   "id": "f4e16e4a-04a8-4453-a86c-8bd98bdb195c",
   "metadata": {},
   "outputs": [
    {
     "data": {
      "image/png": "[encoded data removed]",
      "text/plain": [
       "<PIL.PngImagePlugin.PngImageFile image mode=RGBA size=1880x656>"
      ]
     },
     "execution_count": 21,
     "metadata": {},
     "output_type": "execute_result"
    }
   ],
   "source": [
    "Image.open(path)"
   ]
  },
  {
   "cell_type": "markdown",
   "id": "6f947d6a-9a5f-4369-99f6-c168fde44cc8",
   "metadata": {},
   "source": [
    "<h3>Question: Download a file </h3>\n"
   ]
  },
  {
   "cell_type": "markdown",
   "id": "d68998d6-3283-4287-b0e1-e7698c778eeb",
   "metadata": {},
   "source": [
    "Consider the following URL.\n"
   ]
  },
  {
   "cell_type": "markdown",
   "id": "74422495-e708-4a5b-9e61-3c2d91a5f381",
   "metadata": {},
   "source": [
    "<code>URL = <https://cf-courses-data.s3.us.cloud-object-storage.appdomain.cloud/IBMDeveloperSkillsNetwork-PY0101EN-SkillsNetwork/labs/Module%205/data/Example1.txt</code>\n"
   ]
  },
  {
   "cell_type": "markdown",
   "id": "8bf7d25e-aca8-45ae-becf-83993d24a9cb",
   "metadata": {},
   "source": [
    "Write the commands to download the txt file in the given link.\n"
   ]
  },
  {
   "cell_type": "code",
   "execution_count": 23,
   "id": "73f62567-e6ad-480c-a2ac-cfd5df2981bd",
   "metadata": {},
   "outputs": [
    {
     "name": "stdout",
     "output_type": "stream",
     "text": [
      "This is line 1 \n",
      "This is line 2\n",
      "This is line 3\n"
     ]
    }
   ],
   "source": [
    "url = 'https://cf-courses-data.s3.us.cloud-object-storage.appdomain.cloud/IBMDeveloperSkillsNetwork-PY0101EN-SkillsNetwork/labs/Module%205/data/Example1.txt'\n",
    "r = requests.get(url)\n",
    "print(r.text)"
   ]
  },
  {
   "cell_type": "markdown",
   "id": "e34f7ba8-9929-4cb8-aba7-7c7b92b3f58e",
   "metadata": {},
   "source": [
    "<details><summary>Click here for the solution</summary>\n",
    "\n",
    "```python\n",
    "url='https://cf-courses-data.s3.us.cloud-object-storage.appdomain.cloud/IBMDeveloperSkillsNetwork-PY0101EN-SkillsNetwork/labs/Module%205/data/Example1.txt'\n",
    "path=os.path.join(os.getcwd(),'example1.txt')\n",
    "r=requests.get(url)\n",
    "with open(path,'wb') as f:\n",
    "    f.write(r.content)\n",
    "\n",
    "```\n",
    "\n",
    "</details>\n"
   ]
  },
  {
   "cell_type": "markdown",
   "id": "1bf70f5a-6754-44fc-ba5d-9c3268d39b6a",
   "metadata": {},
   "source": [
    "## Get Request with URL Parameters\n"
   ]
  },
  {
   "cell_type": "markdown",
   "id": "fc496887-ab45-47c4-9d70-22cdbf7706fe",
   "metadata": {},
   "source": [
    "You can use the <b>GET</b> method to modify the results of your query, for example retrieving data from an API. We send a <b>GET</b> request to the  server. Like before we have the <b>Base URL</b>, in the <b>Route</b> we append <code>/get</code>, this indicates we would like to preform a <code>GET</code> request. \n"
   ]
  },
  {
   "cell_type": "markdown",
   "id": "eef42e2a-d249-4af5-be58-49ac055b820d",
   "metadata": {},
   "source": [
    "The Base URL is for <code>[http://httpbin.org/](http://httpbin.org/?utm_medium=Exinfluencer&utm_source=Exinfluencer&utm_content=000026UJ&utm_term=10006555&utm_id=NA-SkillsNetwork-Channel-SkillsNetworkCoursesIBMDeveloperSkillsNetworkPY0101ENSkillsNetwork19487395-2021-01-01)</code> is a simple HTTP Request & Response Service. The <code>URL</code> in Python is given by:\n"
   ]
  },
  {
   "cell_type": "code",
   "execution_count": 24,
   "id": "78be7902-8683-421d-8c1f-06bd7a4e4b3f",
   "metadata": {},
   "outputs": [],
   "source": [
    "url_get='http://httpbin.org/get'"
   ]
  },
  {
   "cell_type": "markdown",
   "id": "1ed22f5b-e2ad-4af2-97e6-3e76b529229b",
   "metadata": {},
   "source": [
    "A <a href=\"https://en.wikipedia.org/wiki/Query_string?utm_medium=Exinfluencer&utm_source=Exinfluencer&utm_content=000026UJ&utm_term=10006555&utm_id=NA-SkillsNetwork-Channel-SkillsNetworkCoursesIBMDeveloperSkillsNetworkPY0101ENSkillsNetwork19487395-2021-01-01\">query string</a> is a part of a uniform resource locator (URL), this sends other information to the web server. The start of the query is a <code>?</code>, followed by a series of parameter and value pairs, as shown in the table below. The first parameter name is <code>name</code> and the value is <code>Joseph</code>. The second parameter name is <code>ID</code> and the Value is <code>123</code>. Each pair, parameter, and value is separated by an equals sign, <code>=</code>.\n",
    "The series of pairs is separated by the ampersand <code>&</code>.\n"
   ]
  },
  {
   "cell_type": "markdown",
   "id": "3dd7f71c-e93f-4592-961d-d2a1c215fe79",
   "metadata": {},
   "source": [
    "<div class=\"alert alert-block alert-info\" style=\"margin-top: 20px\">\n",
    "         <img src=\"https://cf-courses-data.s3.us.cloud-object-storage.appdomain.cloud/IBMDeveloperSkillsNetwork-PY0101EN-SkillsNetwork/labs/Module%205/images/query_string.png\" width=\"500\" align=\"center\">\n",
    "</div>\n"
   ]
  },
  {
   "cell_type": "markdown",
   "id": "3baa087f-5326-4fa8-97f0-36c7c928a26b",
   "metadata": {},
   "source": [
    "To create a Query string, add a dictionary. The keys are the parameter names and the values are the value of the Query string.\n"
   ]
  },
  {
   "cell_type": "code",
   "execution_count": 26,
   "id": "7b2f5b89-48b3-4439-b107-4a95b1c80328",
   "metadata": {},
   "outputs": [],
   "source": [
    "payload={\"name\":\"Joseph\",\"ID\":\"123\"}"
   ]
  },
  {
   "cell_type": "markdown",
   "id": "a00cd50e-e001-41aa-9e0c-e769934948cb",
   "metadata": {},
   "source": [
    "Then passing the dictionary <code>payload</code> to the <code>params</code> parameter of the <code> get()</code> function:\n"
   ]
  },
  {
   "cell_type": "code",
   "execution_count": 27,
   "id": "1b6e428f-f9fe-48e5-8bf4-df19f6caba7b",
   "metadata": {},
   "outputs": [],
   "source": [
    "r=requests.get(url_get,params=payload)"
   ]
  },
  {
   "cell_type": "markdown",
   "id": "fd028e8a-2b46-489a-ba7a-51c2b16e74dc",
   "metadata": {},
   "source": [
    "We can print out the <code>URL</code> and see the name and values.\n"
   ]
  },
  {
   "cell_type": "code",
   "execution_count": 28,
   "id": "5a8d3ea8-31a0-44e5-9555-3dca635892fc",
   "metadata": {},
   "outputs": [
    {
     "data": {
      "text/plain": [
       "'http://httpbin.org/get?name=Joseph&ID=123'"
      ]
     },
     "execution_count": 28,
     "metadata": {},
     "output_type": "execute_result"
    }
   ],
   "source": [
    "r.url"
   ]
  },
  {
   "cell_type": "markdown",
   "id": "7e8c4727-9eef-4311-8b3b-e0a62b468018",
   "metadata": {},
   "source": [
    "There is no request body.\n"
   ]
  },
  {
   "cell_type": "code",
   "execution_count": 29,
   "id": "5630d73c-62c9-43aa-8fe6-18d0baaabee0",
   "metadata": {},
   "outputs": [
    {
     "name": "stdout",
     "output_type": "stream",
     "text": [
      "request body: None\n"
     ]
    }
   ],
   "source": [
    "print(\"request body:\", r.request.body)"
   ]
  },
  {
   "cell_type": "markdown",
   "id": "a4752de3-f3d6-4867-92bd-e039d230058d",
   "metadata": {},
   "source": [
    "We can print out the status code.\n"
   ]
  },
  {
   "cell_type": "code",
   "execution_count": 30,
   "id": "6891cf9d-3984-4d00-830c-171e6a08c7be",
   "metadata": {},
   "outputs": [
    {
     "name": "stdout",
     "output_type": "stream",
     "text": [
      "200\n"
     ]
    }
   ],
   "source": [
    "print(r.status_code)"
   ]
  },
  {
   "cell_type": "markdown",
   "id": "217c1c14-7930-4646-9b7e-fafc3dada63c",
   "metadata": {},
   "source": [
    "We can view the response as text:\n"
   ]
  },
  {
   "cell_type": "code",
   "execution_count": 31,
   "id": "1abce868-6d40-434e-a33b-208e97f601be",
   "metadata": {},
   "outputs": [
    {
     "name": "stdout",
     "output_type": "stream",
     "text": [
      "{\n",
      "  \"args\": {\n",
      "    \"ID\": \"123\", \n",
      "    \"name\": \"Joseph\"\n",
      "  }, \n",
      "  \"headers\": {\n",
      "    \"Accept\": \"*/*\", \n",
      "    \"Accept-Encoding\": \"gzip, deflate\", \n",
      "    \"Host\": \"httpbin.org\", \n",
      "    \"User-Agent\": \"python-requests/2.32.3\", \n",
      "    \"X-Amzn-Trace-Id\": \"Root=1-67a607fb-15fdd21e1833806d2bccd993\"\n",
      "  }, \n",
      "  \"origin\": \"213.55.185.113\", \n",
      "  \"url\": \"http://httpbin.org/get?name=Joseph&ID=123\"\n",
      "}\n",
      "\n"
     ]
    }
   ],
   "source": [
    "print(r.text)"
   ]
  },
  {
   "cell_type": "markdown",
   "id": "6721e06e-2aa8-40e9-a6e6-55958b8aad36",
   "metadata": {},
   "source": [
    "We can look at the <code>'Content-Type'</code>.\n"
   ]
  },
  {
   "cell_type": "code",
   "execution_count": 32,
   "id": "592813cf-9fd1-49ad-bab6-610531571b0c",
   "metadata": {},
   "outputs": [
    {
     "data": {
      "text/plain": [
       "'application/json'"
      ]
     },
     "execution_count": 32,
     "metadata": {},
     "output_type": "execute_result"
    }
   ],
   "source": [
    "r.headers['Content-Type']"
   ]
  },
  {
   "cell_type": "markdown",
   "id": "893e4897-c8b0-467c-9aa2-79ba62399d86",
   "metadata": {},
   "source": [
    "As the content <code>'Content-Type'</code> is in the <code>JSON</code> format we can use the method <code>json()</code>, it returns a Python <code>dict</code>:\n"
   ]
  },
  {
   "cell_type": "code",
   "execution_count": 33,
   "id": "f99e5acd-7039-4b77-a59c-b8c2b2848550",
   "metadata": {},
   "outputs": [
    {
     "data": {
      "text/plain": [
       "{'args': {'ID': '123', 'name': 'Joseph'},\n",
       " 'headers': {'Accept': '*/*',\n",
       "  'Accept-Encoding': 'gzip, deflate',\n",
       "  'Host': 'httpbin.org',\n",
       "  'User-Agent': 'python-requests/2.32.3',\n",
       "  'X-Amzn-Trace-Id': 'Root=1-67a607fb-15fdd21e1833806d2bccd993'},\n",
       " 'origin': '213.55.185.113',\n",
       " 'url': 'http://httpbin.org/get?name=Joseph&ID=123'}"
      ]
     },
     "execution_count": 33,
     "metadata": {},
     "output_type": "execute_result"
    }
   ],
   "source": [
    "r.json()"
   ]
  },
  {
   "cell_type": "markdown",
   "id": "cbecc332-6ca7-4608-bb06-03e6d1c8488b",
   "metadata": {},
   "source": [
    "The key <code>args</code> has the name and values:\n"
   ]
  },
  {
   "cell_type": "code",
   "execution_count": 34,
   "id": "4ee8fd48-3a5f-4c8f-82a3-e1b3a4873147",
   "metadata": {},
   "outputs": [
    {
     "data": {
      "text/plain": [
       "{'ID': '123', 'name': 'Joseph'}"
      ]
     },
     "execution_count": 34,
     "metadata": {},
     "output_type": "execute_result"
    }
   ],
   "source": [
    "r.json()['args']"
   ]
  },
  {
   "cell_type": "markdown",
   "id": "d3637dfe-ac48-4660-83ba-32d9a20ed4d8",
   "metadata": {},
   "source": [
    "## Post Requests\n"
   ]
  },
  {
   "cell_type": "markdown",
   "id": "68a4f492-1ac6-4e23-a079-d323eb3e64ed",
   "metadata": {},
   "source": [
    "Like a <code>GET</code> request, a <code>POST</code> is used to send data to a server, but the <code>POST</code> request sends the data in a request body. In order to send the Post Request in Python, in the <code>URL</code> we change the route to <code>POST</code>:\n"
   ]
  },
  {
   "cell_type": "code",
   "execution_count": 35,
   "id": "c2ed1468-5931-494b-87cc-a6b4e284fc8a",
   "metadata": {},
   "outputs": [],
   "source": [
    "url_post='http://httpbin.org/post'"
   ]
  },
  {
   "cell_type": "markdown",
   "id": "8ba788ac-7a5d-4eb3-b0e2-1e2726042790",
   "metadata": {},
   "source": [
    "This endpoint will expect data as a file or as a form. A form is convenient way to configure an HTTP request to send data to a server.\n"
   ]
  },
  {
   "cell_type": "markdown",
   "id": "4516364d-587f-499a-a33c-da65169d4815",
   "metadata": {},
   "source": [
    "To make a <code>POST</code> request we use the <code>post()</code> function, the variable <code>payload</code> is passed to the parameter <code> data </code>:\n"
   ]
  },
  {
   "cell_type": "code",
   "execution_count": 43,
   "id": "2d9e942e-b19e-4620-94f2-dd829df5c2aa",
   "metadata": {},
   "outputs": [
    {
     "data": {
      "text/plain": [
       "{'args': {},\n",
       " 'data': '',\n",
       " 'files': {},\n",
       " 'form': {'ID': '123', 'name': 'Joseph'},\n",
       " 'headers': {'Accept': '*/*',\n",
       "  'Accept-Encoding': 'gzip, deflate',\n",
       "  'Content-Length': '18',\n",
       "  'Content-Type': 'application/x-www-form-urlencoded',\n",
       "  'Host': 'httpbin.org',\n",
       "  'User-Agent': 'python-requests/2.32.3',\n",
       "  'X-Amzn-Trace-Id': 'Root=1-67a609a6-63ee91c123bb287c176ad259'},\n",
       " 'json': None,\n",
       " 'origin': '213.55.185.113',\n",
       " 'url': 'http://httpbin.org/post'}"
      ]
     },
     "execution_count": 43,
     "metadata": {},
     "output_type": "execute_result"
    }
   ],
   "source": [
    "r_post=requests.post(url_post,data=payload)\n",
    "r_post.json()"
   ]
  },
  {
   "cell_type": "markdown",
   "id": "e351a453-c9f4-4d1e-a8dd-80e30f2f4815",
   "metadata": {},
   "source": [
    "Comparing the URL from the response object of the <code>GET</code> and <code>POST</code> request we see the <code>POST</code> request has no name or value pairs.\n"
   ]
  },
  {
   "cell_type": "code",
   "execution_count": 44,
   "id": "996265e4-d334-4062-ab6b-78160ee07921",
   "metadata": {},
   "outputs": [
    {
     "name": "stdout",
     "output_type": "stream",
     "text": [
      "POST request URL: http://httpbin.org/post\n",
      "GET request URL: http://httpbin.org/get?name=Joseph&ID=123\n"
     ]
    }
   ],
   "source": [
    "print(\"POST request URL:\",r_post.url )\n",
    "print(\"GET request URL:\",r.url)"
   ]
  },
  {
   "cell_type": "markdown",
   "id": "c73317cb-4571-49ed-8c84-c337fe06fd9b",
   "metadata": {},
   "source": [
    "We can compare the <code>POST</code> and <code>GET</code> request body, we see only the <code>POST</code> request has a body:\n"
   ]
  },
  {
   "cell_type": "code",
   "execution_count": 45,
   "id": "db279977-5a35-4f60-b7a1-e093a99f8c75",
   "metadata": {},
   "outputs": [
    {
     "name": "stdout",
     "output_type": "stream",
     "text": [
      "POST request body: name=Joseph&ID=123\n",
      "GET request body: None\n"
     ]
    }
   ],
   "source": [
    "print(\"POST request body:\",r_post.request.body)\n",
    "print(\"GET request body:\",r.request.body)"
   ]
  },
  {
   "cell_type": "markdown",
   "id": "1e7c3ef4-bb15-4080-bf00-aedf38e40d2c",
   "metadata": {},
   "source": [
    "We can view the form as well:\n"
   ]
  },
  {
   "cell_type": "code",
   "execution_count": 47,
   "id": "06ca036f-9d17-412b-ac1c-e71670b27620",
   "metadata": {},
   "outputs": [
    {
     "data": {
      "text/plain": [
       "{'ID': '123', 'name': 'Joseph'}"
      ]
     },
     "execution_count": 47,
     "metadata": {},
     "output_type": "execute_result"
    }
   ],
   "source": [
    "r_post.json()['form']"
   ]
  },
  {
   "cell_type": "markdown",
   "id": "3877ac24-ee47-4333-b3bf-fe12033b0626",
   "metadata": {},
   "source": [
    "There is a lot more you can do. Check out <a href=\"https://requests.readthedocs.io/en/master/?utm_medium=Exinfluencer&utm_source=Exinfluencer&utm_content=000026UJ&utm_term=10006555&utm_id=NA-SkillsNetwork-Channel-SkillsNetworkCoursesIBMDeveloperSkillsNetworkPY0101ENSkillsNetwork19487395-2021-01-01\">Requests </a> for more.\n"
   ]
  },
  {
   "cell_type": "markdown",
   "id": "2f40f05e-1bfa-4232-a534-d5e3743506b6",
   "metadata": {},
   "source": [
    "<hr>\n"
   ]
  },
  {
   "cell_type": "markdown",
   "id": "36f5adbb-291f-44fb-8ea9-dfaea41edf78",
   "metadata": {},
   "source": [
    "## Authors\n",
    "\n",
    "<p><a href=\"https://www.linkedin.com/in/joseph-s-50398b136/?utm_medium=Exinfluencer&utm_source=Exinfluencer&utm_content=000026UJ&utm_term=10006555&utm_id=NA-SkillsNetwork-Channel-SkillsNetworkCoursesIBMDeveloperSkillsNetworkPY0101ENSkillsNetwork19487395-2021-01-01\" target=\"_blank\">Joseph Santarcangelo</a> <br>A Data Scientist at IBM, and holds a PhD in Electrical Engineering. His research focused on using Machine Learning, Signal Processing, and Computer Vision to determine how videos impact human cognition. Joseph has been working for IBM since he completed his PhD.</p>\n"
   ]
  },
  {
   "cell_type": "markdown",
   "id": "eb8e077f-aff5-4d6a-b1e4-806ff6c365bf",
   "metadata": {},
   "source": [
    "### Other Contributors\n",
    "\n",
    "<a href=\"https://www.linkedin.com/in/jiahui-mavis-zhou-a4537814a?utm_medium=Exinfluencer&utm_source=Exinfluencer&utm_content=000026UJ&utm_term=10006555&utm_id=NA-SkillsNetwork-Channel-SkillsNetworkCoursesIBMDeveloperSkillsNetworkPY0101ENSkillsNetwork19487395-2021-01-01\">Mavis Zhou</a>\n"
   ]
  },
  {
   "cell_type": "markdown",
   "id": "112d34e6-4fe3-4cad-ae45-d63740b55d44",
   "metadata": {},
   "source": [
    "## <h3 align=\"center\"> © IBM Corporation 2023. All rights reserved. <h3/>\n",
    "<!--\n",
    "## Change Log\n",
    "\n",
    "| Date (YYYY-MM-DD) | Version | Changed By | Change Description           |\n",
    "| ----------------- | ------- | ---------- | ---------------------------- |\n",
    "| 2023-11-02 | 2.4 | Abhishek Gagneja | Updated instructions |\n",
    "| 2023-06-07        | 2.3     |Akansha Yadav| Spell Check                 |\n",
    "| 2021-12-20        | 2.1     | Malika     | Updated the links            |\n",
    "| 2020-09-02        | 2.0     | Simran     | Template updates to the file |\n",
    "|                   |         |            |                              |\n",
    "|                   |         |            |                              |\n",
    "\n",
    "--!>\n"
   ]
  }
 ],
 "metadata": {
  "kernelspec": {
   "display_name": "jupyter_env",
   "language": "python",
   "name": "python3"
  },
  "language_info": {
   "codemirror_mode": {
    "name": "ipython",
    "version": 3
   },
   "file_extension": ".py",
   "mimetype": "text/x-python",
   "name": "python",
   "nbconvert_exporter": "python",
   "pygments_lexer": "ipython3",
   "version": "3.11.5"
  },
  "prev_pub_hash": "6c818b6299c821f61f2726b6ac746df628188eb0e7cbec8f4fada9f7416a9361"
 },
 "nbformat": 4,
 "nbformat_minor": 4
}
